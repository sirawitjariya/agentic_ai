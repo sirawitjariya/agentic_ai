{
 "cells": [
  {
   "cell_type": "markdown",
   "id": "b3c07bdb",
   "metadata": {},
   "source": [
    "## Type Annotation"
   ]
  },
  {
   "cell_type": "code",
   "execution_count": 23,
   "id": "2977f643",
   "metadata": {},
   "outputs": [],
   "source": [
    "import typing\n",
    "from typing import TypedDict, Union, Optional, Any"
   ]
  },
  {
   "cell_type": "markdown",
   "id": "905c2b8b",
   "metadata": {},
   "source": [
    "### TypeDict"
   ]
  },
  {
   "cell_type": "code",
   "execution_count": 39,
   "id": "c2e74ad8",
   "metadata": {},
   "outputs": [
    {
     "name": "stdout",
     "output_type": "stream",
     "text": [
      "<class 'str'>\n",
      "<class 'int'>\n"
     ]
    }
   ],
   "source": [
    "class Movie(TypedDict):\n",
    "    name: int\n",
    "    year: str\n",
    "\n",
    "movie = Movie(name = 'test', year = 123)\n",
    "print(type(movie['name']))\n",
    "print(type(movie['year']))"
   ]
  },
  {
   "cell_type": "markdown",
   "id": "29492889",
   "metadata": {},
   "source": [
    "### Union"
   ]
  },
  {
   "cell_type": "code",
   "execution_count": null,
   "id": "8e252d6c",
   "metadata": {},
   "outputs": [
    {
     "name": "stdout",
     "output_type": "stream",
     "text": [
      "7.125\n",
      "Error\n"
     ]
    }
   ],
   "source": [
    "def test(x: Union[int]):\n",
    "    x = x+2\n",
    "    return x\n",
    "\n",
    "print(test(5.125)) ## Should error in langchain\n",
    "try: \n",
    "    print(test(\"test\")) ## Should error from incompatible\n",
    "except: \n",
    "    print(\"Error\")"
   ]
  },
  {
   "cell_type": "markdown",
   "id": "38257441",
   "metadata": {},
   "source": [
    "### Optional"
   ]
  },
  {
   "cell_type": "code",
   "execution_count": null,
   "id": "e5a4ba92",
   "metadata": {},
   "outputs": [
    {
     "data": {
      "text/plain": [
       "7"
      ]
     },
     "execution_count": 47,
     "metadata": {},
     "output_type": "execute_result"
    }
   ],
   "source": [
    "def test2(x: Optional[str]):\n",
    "    x = x+2\n",
    "    return x\n",
    "\n",
    "test2(x = 5) ## Should error in langchain"
   ]
  },
  {
   "cell_type": "markdown",
   "id": "38f58eaa",
   "metadata": {},
   "source": [
    "### Any"
   ]
  },
  {
   "cell_type": "code",
   "execution_count": 52,
   "id": "17cc88c6",
   "metadata": {},
   "outputs": [
    {
     "data": {
      "text/plain": [
       "7"
      ]
     },
     "execution_count": 52,
     "metadata": {},
     "output_type": "execute_result"
    }
   ],
   "source": [
    "def test2(x: Any):\n",
    "    x = x+2\n",
    "    return x\n",
    "\n",
    "test2(x = 5)"
   ]
  },
  {
   "cell_type": "markdown",
   "id": "6dce814a",
   "metadata": {},
   "source": [
    "### Lambda"
   ]
  },
  {
   "cell_type": "code",
   "execution_count": 63,
   "id": "fd072bee",
   "metadata": {},
   "outputs": [
    {
     "data": {
      "text/plain": [
       "[72, 69, 64, -1477]"
      ]
     },
     "execution_count": 63,
     "metadata": {},
     "output_type": "execute_result"
    }
   ],
   "source": [
    "def sqaure(x):\n",
    "    x = -x**2\n",
    "    x += 123\n",
    "    if x > 100:\n",
    "        x = x -50\n",
    "    else:\n",
    "        pass\n",
    "    return x\n",
    "\n",
    "x = [1,2,3,40]\n",
    "sqaure = list(map(lambda x: sqaure(x),x))\n",
    "\n",
    "sqaure"
   ]
  },
  {
   "cell_type": "markdown",
   "id": "f3e62c16",
   "metadata": {},
   "source": [
    "## Elements\n",
    "1. State: Saving the environment in that time \n",
    "2. Nodes: To process somthing (Part of graph)\n",
    "3. Edges: To link the process between Node (Normal, Condition) (Part of graph)\n",
    "4. Graph: Nodes + Edges\n",
    "5. Runnable: Execute component in graph\n",
    "6. Tools: For using in nodes"
   ]
  },
  {
   "cell_type": "markdown",
   "id": "9d45c6ba",
   "metadata": {},
   "source": [
    "## Message\n",
    "1. Human: Input user\n",
    "2. AI: Response from AI\n",
    "3. System: Prompt for AI\n",
    "4. Tool: Prompt for tool\n",
    "5. Function: Result of function call"
   ]
  },
  {
   "cell_type": "markdown",
   "id": "05e5fc38",
   "metadata": {},
   "source": [
    "## Example"
   ]
  },
  {
   "cell_type": "markdown",
   "id": "f3a0169c",
   "metadata": {},
   "source": [
    "### Graph 1"
   ]
  },
  {
   "cell_type": "markdown",
   "id": "78a9d6c0",
   "metadata": {},
   "source": [
    "#### Example"
   ]
  },
  {
   "cell_type": "code",
   "execution_count": 66,
   "id": "af881968",
   "metadata": {},
   "outputs": [],
   "source": [
    "from typing import Dict, TypedDict\n",
    "from langgraph.graph import StateGraph"
   ]
  },
  {
   "cell_type": "code",
   "execution_count": 75,
   "id": "72ef65de",
   "metadata": {},
   "outputs": [],
   "source": [
    "class AgentState(TypedDict): # State schema\n",
    "    message: str\n",
    "\n",
    "def greeting_node(state: AgentState) -> AgentState:\n",
    "    \"\"\"Simple node that adds a greeting message to the state\"\"\"\n",
    "\n",
    "    state[\"message\"] = \"Hey \" + state[\"message\"] + \", how is your day going?\"\n",
    "\n",
    "    return state"
   ]
  },
  {
   "cell_type": "code",
   "execution_count": 76,
   "id": "02db5eb1",
   "metadata": {},
   "outputs": [],
   "source": [
    "graph = StateGraph(AgentState)\n",
    "\n",
    "graph.add_node(\"greeter\", greeting_node)\n",
    "\n",
    "graph.set_entry_point(\"greeter\")\n",
    "graph.set_finish_point(\"greeter\")\n",
    "\n",
    "app = graph.compile()"
   ]
  },
  {
   "cell_type": "code",
   "execution_count": 77,
   "id": "3309819b",
   "metadata": {},
   "outputs": [
    {
     "data": {
      "image/png": "[encoded data removed]",
      "text/plain": [
       "<IPython.core.display.Image object>"
      ]
     },
     "metadata": {},
     "output_type": "display_data"
    }
   ],
   "source": [
    "from IPython.display import Image\n",
    "display(Image(app.get_graph().draw_mermaid_png()))"
   ]
  },
  {
   "cell_type": "code",
   "execution_count": 78,
   "id": "82b42135",
   "metadata": {},
   "outputs": [
    {
     "data": {
      "text/plain": [
       "{'message': 'Hey Bob, how is your day going?'}"
      ]
     },
     "execution_count": 78,
     "metadata": {},
     "output_type": "execute_result"
    }
   ],
   "source": [
    "result = app.invoke({\"message\": \"Bob\"})\n",
    "\n",
    "result"
   ]
  },
  {
   "cell_type": "markdown",
   "id": "e5ee4d74",
   "metadata": {},
   "source": [
    "#### Exercise"
   ]
  },
  {
   "cell_type": "code",
   "execution_count": 133,
   "id": "f853f302",
   "metadata": {},
   "outputs": [],
   "source": [
    "class AgentState(TypedDict): #Don't forgot dict type\n",
    "    name: str\n",
    "    message: str\n",
    "\n",
    "def hello_message(state: AgentState) -> AgentState:\n",
    "    \"\"\"Hello message for the specific input name\"\"\"\n",
    "    state[\"message\"] = f\"\"\"{state[\"name\"]}, you're doing greate today\"\"\" #Class attribute as dict\n",
    "\n",
    "    return state"
   ]
  },
  {
   "cell_type": "code",
   "execution_count": 134,
   "id": "889d9cbb",
   "metadata": {},
   "outputs": [],
   "source": [
    "graph = StateGraph(AgentState)\n",
    "\n",
    "graph.add_node(\"hello_node\", hello_message)\n",
    "\n",
    "graph.set_entry_point(\"hello_node\")\n",
    "graph.set_finish_point(\"hello_node\")\n",
    "\n",
    "app = graph.compile()"
   ]
  },
  {
   "cell_type": "code",
   "execution_count": 135,
   "id": "7987747d",
   "metadata": {},
   "outputs": [
    {
     "data": {
      "image/png": "[encoded data removed]",
      "text/plain": [
       "<IPython.core.display.Image object>"
      ]
     },
     "metadata": {},
     "output_type": "display_data"
    }
   ],
   "source": [
    "from IPython.display import Image\n",
    "display(Image(app.get_graph().draw_mermaid_png()))"
   ]
  },
  {
   "cell_type": "code",
   "execution_count": 136,
   "id": "4dd9caaf",
   "metadata": {},
   "outputs": [
    {
     "data": {
      "text/plain": [
       "{'name': 'Bob', 'message': \"Bob, you're doing greate today\"}"
      ]
     },
     "execution_count": 136,
     "metadata": {},
     "output_type": "execute_result"
    }
   ],
   "source": [
    "result = app.invoke({\"name\": \"Bob\"})\n",
    "\n",
    "result"
   ]
  },
  {
   "cell_type": "markdown",
   "id": "2477090a",
   "metadata": {},
   "source": [
    "### Graph 2"
   ]
  },
  {
   "cell_type": "markdown",
   "id": "d7ceafce",
   "metadata": {},
   "source": [
    "#### Example"
   ]
  },
  {
   "cell_type": "code",
   "execution_count": 153,
   "id": "b2709b4a",
   "metadata": {},
   "outputs": [],
   "source": [
    "from typing import TypedDict, List\n",
    "from langgraph.graph import StateGraph"
   ]
  },
  {
   "cell_type": "code",
   "execution_count": 154,
   "id": "8228bcf8",
   "metadata": {},
   "outputs": [],
   "source": [
    "class AgentState(TypedDict):\n",
    "    values : List[int]\n",
    "    name: str\n",
    "    result : str"
   ]
  },
  {
   "cell_type": "code",
   "execution_count": 155,
   "id": "5a676bbc",
   "metadata": {},
   "outputs": [],
   "source": [
    "def process_value(state: AgentState) -> AgentState:\n",
    "    \"\"\"This function is to multiple different inputs\"\"\"\n",
    "    print(state)\n",
    "    state['result'] = f\"Hi mister {state['name']}\"\n",
    "    state['result'] += f\"\\n Your sum is {sum(state[\"values\"])}\"\n",
    "    print(state)\n",
    "    return state"
   ]
  },
  {
   "cell_type": "code",
   "execution_count": 156,
   "id": "e1a3299d",
   "metadata": {},
   "outputs": [],
   "source": [
    "cal_graph = StateGraph(AgentState)\n",
    "\n",
    "cal_graph.add_node(\"calculate_node\", process_value)\n",
    "\n",
    "cal_graph.set_entry_point(\"calculate_node\")\n",
    "cal_graph.set_finish_point(\"calculate_node\")\n",
    "\n",
    "cal_app = cal_graph.compile()"
   ]
  },
  {
   "cell_type": "code",
   "execution_count": 157,
   "id": "97caee76",
   "metadata": {},
   "outputs": [
    {
     "data": {
      "image/png": "[encoded data removed]",
      "text/plain": [
       "<IPython.core.display.Image object>"
      ]
     },
     "metadata": {},
     "output_type": "display_data"
    }
   ],
   "source": [
    "from IPython.display import Image\n",
    "display(Image(cal_app.get_graph().draw_mermaid_png()))"
   ]
  },
  {
   "cell_type": "code",
   "execution_count": 158,
   "id": "7d0b1d41",
   "metadata": {},
   "outputs": [
    {
     "name": "stdout",
     "output_type": "stream",
     "text": [
      "{'values': [1, 2, 3], 'name': 'Bob', 'result': 'WTF'}\n",
      "{'values': [1, 2, 3], 'name': 'Bob', 'result': 'Hi mister Bob\\n Your sum is 6'}\n"
     ]
    },
    {
     "data": {
      "text/plain": [
       "{'values': [1, 2, 3], 'name': 'Bob', 'result': 'Hi mister Bob\\n Your sum is 6'}"
      ]
     },
     "execution_count": 158,
     "metadata": {},
     "output_type": "execute_result"
    }
   ],
   "source": [
    "result = cal_app.invoke({\n",
    "                  \"values\": [1,2,3],\n",
    "                  \"name\":\"Bob\",\n",
    "                  \"result\":\"WTF\"})\n",
    "\n",
    "result"
   ]
  }
 ],
 "metadata": {
  "kernelspec": {
   "display_name": "venv",
   "language": "python",
   "name": "python3"
  },
  "language_info": {
   "codemirror_mode": {
    "name": "ipython",
    "version": 3
   },
   "file_extension": ".py",
   "mimetype": "text/x-python",
   "name": "python",
   "nbconvert_exporter": "python",
   "pygments_lexer": "ipython3",
   "version": "3.13.2"
  }
 },
 "nbformat": 4,
 "nbformat_minor": 5
}
