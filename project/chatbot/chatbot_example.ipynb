{
 "cells": [
  {
   "cell_type": "markdown",
   "id": "1640b4b2",
   "metadata": {
    "vscode": {
     "languageId": "plaintext"
    }
   },
   "source": [
    "## Import Library"
   ]
  },
  {
   "cell_type": "code",
   "execution_count": null,
   "id": "a48bbbef",
   "metadata": {},
   "outputs": [],
   "source": [
    "# ✅ Standard Libraries\n",
    "import os\n",
    "import time\n",
    "from uuid import uuid4\n",
    "from typing import Literal, Optional,List\n",
    "from typing_extensions import TypedDict\n",
    "\n",
    "# ✅ Pydantic for Schema\n",
    "from pydantic import BaseModel, Field\n",
    "\n",
    "# ✅ Third-Party Utilities\n",
    "import numpy as np\n",
    "import pandas as pd\n",
    "from tqdm import tqdm\n",
    "from dotenv import load_dotenv\n",
    "\n",
    "# ✅ LangChain Core\n",
    "from langchain_core.tools import tool\n",
    "from langchain_core.messages import convert_to_messages\n",
    "from langchain_core.documents import Document\n",
    "from langchain_core.runnables import RunnableConfig,RunnableLambda\n",
    "\n",
    "# ✅ LangChain Models\n",
    "from langchain_openai import ChatOpenAI, OpenAIEmbeddings\n",
    "from langchain_google_vertexai import ChatVertexAI\n",
    "\n",
    "# ✅ LangChain MongoDB Integration\n",
    "from pymongo.mongo_client import MongoClient\n",
    "from pymongo.server_api import ServerApi\n",
    "from langchain_mongodb import MongoDBAtlasVectorSearch\n",
    "from langchain_mongodb.retrievers.hybrid_search import MongoDBAtlasHybridSearchRetriever\n",
    "\n",
    "# ✅ LangChain Tools / Plugins\n",
    "from langchain_tavily import TavilySearch\n",
    "from langchain.output_parsers.openai_functions import (\n",
    "    JsonOutputFunctionsParser,\n",
    "    PydanticOutputFunctionsParser\n",
    ")\n",
    "from langchain.utils.openai_functions import convert_pydantic_to_openai_function\n",
    "from langchain.prompts import ChatPromptTemplate, PromptTemplate\n",
    "from langchain import LLMMathChain\n",
    "\n",
    "\n",
    "# ✅ LangGraph\n",
    "from langgraph.graph import StateGraph, END\n",
    "from langgraph.prebuilt import create_react_agent\n",
    "from langchain_community.callbacks import get_openai_callback\n",
    "\n"
   ]
  },
  {
   "cell_type": "markdown",
   "id": "a93115a6",
   "metadata": {
    "vscode": {
     "languageId": "plaintext"
    }
   },
   "source": [
    "## Load keys from .env"
   ]
  },
  {
   "cell_type": "code",
   "execution_count": null,
   "id": "e857827d",
   "metadata": {},
   "outputs": [],
   "source": [
    "# ✅ Load variables from .env file\n",
    "load_dotenv()\n",
    "\n",
    "# ✅ Access API keys and URIs\n",
    "openai_api_key = os.getenv(\"OPENAI_API_KEY\")\n",
    "tavily_api_key = os.getenv(\"TAVILY_API_KEY\")\n",
    "\n",
    "# ✅ Raise error if any key is missing\n",
    "if not openai_api_key:\n",
    "    raise ValueError(\"OPENAI_API_KEY is not set in .env file\")\n",
    "if not tavily_api_key:\n",
    "    raise ValueError(\"TAVILY_API_KEY is not set in .env file\")\n",
    "\n",
    "# ✅ Optional: Set as environment variables for downstream tools\n",
    "os.environ[\"OPENAI_API_KEY\"] = openai_api_key\n",
    "os.environ[\"TAVILY_API_KEY\"] = tavily_api_key"
   ]
  },
  {
   "cell_type": "code",
   "execution_count": null,
   "id": "a569f1ac",
   "metadata": {},
   "outputs": [],
   "source": []
  }
 ],
 "metadata": {
  "kernelspec": {
   "display_name": "venv",
   "language": "python",
   "name": "python3"
  },
  "language_info": {
   "name": "python",
   "version": "3.13.2"
  }
 },
 "nbformat": 4,
 "nbformat_minor": 5
}
